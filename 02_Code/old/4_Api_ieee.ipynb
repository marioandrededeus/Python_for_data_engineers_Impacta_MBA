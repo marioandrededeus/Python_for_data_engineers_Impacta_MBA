{
 "cells": [
  {
   "cell_type": "markdown",
   "metadata": {},
   "source": [
    "# API - IEEE"
   ]
  },
  {
   "cell_type": "markdown",
   "metadata": {},
   "source": [
    "# Imports"
   ]
  },
  {
   "cell_type": "code",
   "execution_count": 1,
   "metadata": {},
   "outputs": [],
   "source": [
    "#!pip install xplore"
   ]
  },
  {
   "cell_type": "code",
   "execution_count": 26,
   "metadata": {},
   "outputs": [],
   "source": [
    "import pandas as pd\n",
    "import numpy as np\n",
    "import os\n",
    "import glob\n",
    "import sqlite3\n",
    "import yaml\n",
    "import json\n",
    "import requests\n",
    "#import xplore\n",
    "\n",
    "import warnings\n",
    "warnings.simplefilter(action = 'ignore', category = FutureWarning)\n",
    "\n",
    "from functions import read_bib\n",
    "from functions import load_bib\n",
    "from functions import write_yaml\n",
    "from functions import write_json\n",
    "from functions import write_csv\n",
    "from functions import read_yaml\n",
    "\n",
    "pd.set_option('display.max_rows', 100)\n",
    "pd.set_option('display.max_columns', 100)\n",
    "pd.set_option('display.width', 1000)"
   ]
  },
  {
   "cell_type": "markdown",
   "metadata": {},
   "source": [
    "# Params"
   ]
  },
  {
   "cell_type": "code",
   "execution_count": 27,
   "metadata": {},
   "outputs": [
    {
     "name": "stdout",
     "output_type": "stream",
     "text": [
      "../05_Config/config_api.yaml read successfully\n"
     ]
    },
    {
     "data": {
      "text/plain": [
       "'query_params: '"
      ]
     },
     "metadata": {},
     "output_type": "display_data"
    },
    {
     "data": {
      "text/plain": [
       "{'apikey': '3jk2p7za5jtd7a39gwknygvk',\n",
       " 'format': 'json',\n",
       " 'max_records': 1000,\n",
       " 'start_record': 1,\n",
       " 'sort_order': 'asc',\n",
       " 'sort_field': 'article',\n",
       " 'field_to_search1': 'article_title',\n",
       " 'search_for1': 'big+data+quality',\n",
       " 'field_to_search2': 'None',\n",
       " 'search_for2': 'None'}"
      ]
     },
     "metadata": {},
     "output_type": "display_data"
    },
    {
     "data": {
      "text/plain": [
       "'http://ieeexploreapi.ieee.org/api/v1/search/articles?apikey=3jk2p7za5jtd7a39gwknygvk&format=json&max_records=1000&start_record=1&sort_order=asc&sort_field=article_number&article_title=big+data+quality&None=None'"
      ]
     },
     "execution_count": 27,
     "metadata": {},
     "output_type": "execute_result"
    }
   ],
   "source": [
    "config = read_yaml(\"../05_Config/config_api.yaml\")\n",
    "display(\"query_params: \", query_params)\n",
    "\n",
    "url = f\"http://ieeexploreapi.ieee.org/api/v1/search/articles?apikey={query_params['apikey']}&format={query_params['format']}&max_records={query_params['max_records']}&start_record={query_params['start_record']}&sort_order={query_params['sort_order']}&sort_field=article_number&{query_params['field_to_search1']}={query_params['search_for1']}&{query_params['field_to_search2']}={query_params['search_for2']}\"\n",
    "url"
   ]
  },
  {
   "cell_type": "code",
   "execution_count": 24,
   "metadata": {},
   "outputs": [
    {
     "name": "stdout",
     "output_type": "stream",
     "text": [
      "Status code:  403 \n",
      "Provavelmente foi atingido o limite de consultas diario!\n"
     ]
    }
   ],
   "source": [
    "requestsIE = requests.get(url)\n",
    "\n",
    "if requestsIEEE.status_code >= 400:\n",
    "    print('Status code: ',requestsIEEE.status_code, '\\nProvavelmente foi atingido o limite de consultas diario!')\n",
    "\n",
    "else:\n",
    "    dict_api_ieee = requestsIEEE.json()\n",
    "    print('\\ntotal_records: ' + str(dict_api_ieee['total_records']) +\\\n",
    "        '\\ntotal_searched: ' + str(dict_api_ieee['total_searched']))\n",
    "\n",
    "    if (int(dict_api_ieee['total_records']) // 200) > 9:\n",
    "        max_pages = (9*200)+2\n",
    "    else:\n",
    "        max_pages = ((int(dict_api_ieee['total_records']) // 200) *200) + 2\n",
    "    list_output = []\n",
    "    for start_record in range(1,max_pages,200):\n",
    "        print('start_record: ', start_record)\n",
    "        url = f\"http://ieeexploreapi.ieee.org/api/v1/search/articles?apikey={query_params['apikey']}&format={query_params['format']}&max_records={query_params['max_records']}&start_record={start_record}&sort_order={query_params['sort_order']}&sort_field=article_number&{query_params['field_to_search1']}={query_params['search_for1']}&{query_params['field_to_search2']}={query_params['search_for2']}\"\n",
    "        requestsIEEE = requests.get(url)\n",
    "        dict_api_ieee = requestsIEEE.json()\n",
    "        df_temp = pd.DataFrame.from_dict(dict_api_ieee['articles'])\n",
    "        list_output.append(df_temp)\n",
    "\n",
    "    df_api_original_articles = pd.concat(list_output, ignore_index = True)\n",
    "    print(df_api_original_articles.shape)\n",
    "\n",
    "    #Extract only name of author when possible\n",
    "    df_api_original_articles.authors = df_api_original_articles.authors.astype('O')\n",
    "    for i, x in enumerate(df_api_original_articles.authors):\n",
    "\n",
    "        if len(str(df_api_original_articles.authors[i]).split(\"'full_name': '\", maxsplit = 1)) > 1:\n",
    "            df_api_original_articles.authors[i] = str(df_api_original_articles.authors[i]).split(\"'full_name': '\", maxsplit = 1)[-1].split(\"'\", maxsplit = 1)[0]\n",
    "        else:\n",
    "            df_api_original_articles.authors[i] = np.nan\n",
    "\n",
    "    df_api_articles = df_api_original_articles[['title', 'abstract', 'publication_year', 'authors', 'doi', 'content_type', 'issn', 'isbn']]\n",
    "\n",
    "    print('\\ndf_api_original_articles: ', df_api_original_articles.shape)\n",
    "    print('df_api_articles: ', df_api_original_articles.shape)"
   ]
  },
  {
   "cell_type": "markdown",
   "metadata": {},
   "source": [
    "# Export to Database"
   ]
  },
  {
   "cell_type": "code",
   "execution_count": null,
   "metadata": {},
   "outputs": [],
   "source": [
    "#Exporting to SQlite database\n",
    "dbfile = '/Users/amigosdadancamooca/Documents/Impacta/Python_for_Data_Engineers/03_OutputFiles/doi.db'\n",
    "tabela ='api_ieee'\n",
    "db = sqlite3.connect(dbfile)\n",
    "sqlDataTypes={}\n",
    "for c in df_api_articles.columns:\n",
    "    if df_api_articles[c].dtype.kind == 'i':  \n",
    "        sqlDataTypes[c]='INTEGER'\n",
    "    elif df_api_articles[c].dtype.kind == 'f':\n",
    "        sqlDataTypes[c]='REAL'\n",
    "    else:\n",
    "        sqlDataTypes[c]='TEXT'\n",
    "df_api_articles.to_sql(tabela, index=False, if_exists='replace', dtype=sqlDataTypes, con=db)   \n",
    "db.commit()\n",
    "db.close() "
   ]
  },
  {
   "cell_type": "code",
   "execution_count": 29,
   "metadata": {},
   "outputs": [
    {
     "data": {
      "text/html": [
       "<div>\n",
       "<style scoped>\n",
       "    .dataframe tbody tr th:only-of-type {\n",
       "        vertical-align: middle;\n",
       "    }\n",
       "\n",
       "    .dataframe tbody tr th {\n",
       "        vertical-align: top;\n",
       "    }\n",
       "\n",
       "    .dataframe thead th {\n",
       "        text-align: right;\n",
       "    }\n",
       "</style>\n",
       "<table border=\"1\" class=\"dataframe\">\n",
       "  <thead>\n",
       "    <tr style=\"text-align: right;\">\n",
       "      <th></th>\n",
       "      <th>count(*)</th>\n",
       "    </tr>\n",
       "  </thead>\n",
       "  <tbody>\n",
       "    <tr>\n",
       "      <th>0</th>\n",
       "      <td>2000</td>\n",
       "    </tr>\n",
       "  </tbody>\n",
       "</table>\n",
       "</div>"
      ],
      "text/plain": [
       "   count(*)\n",
       "0      2000"
      ]
     },
     "metadata": {},
     "output_type": "display_data"
    },
    {
     "data": {
      "text/html": [
       "<div>\n",
       "<style scoped>\n",
       "    .dataframe tbody tr th:only-of-type {\n",
       "        vertical-align: middle;\n",
       "    }\n",
       "\n",
       "    .dataframe tbody tr th {\n",
       "        vertical-align: top;\n",
       "    }\n",
       "\n",
       "    .dataframe thead th {\n",
       "        text-align: right;\n",
       "    }\n",
       "</style>\n",
       "<table border=\"1\" class=\"dataframe\">\n",
       "  <thead>\n",
       "    <tr style=\"text-align: right;\">\n",
       "      <th></th>\n",
       "      <th>title</th>\n",
       "      <th>abstract</th>\n",
       "      <th>publication_year</th>\n",
       "      <th>authors</th>\n",
       "      <th>doi</th>\n",
       "      <th>content_type</th>\n",
       "      <th>issn</th>\n",
       "      <th>isbn</th>\n",
       "    </tr>\n",
       "  </thead>\n",
       "  <tbody>\n",
       "    <tr>\n",
       "      <th>0</th>\n",
       "      <td>Research and Application of Data Mining in Fau...</td>\n",
       "      <td>The fault characteristics of big equipments ar...</td>\n",
       "      <td>2007</td>\n",
       "      <td>Zhigang Chen</td>\n",
       "      <td>10.1109/ICMA.2007.4304167</td>\n",
       "      <td>Conferences</td>\n",
       "      <td>2152-744X</td>\n",
       "      <td>978-1-4244-0828-3</td>\n",
       "    </tr>\n",
       "    <tr>\n",
       "      <th>1</th>\n",
       "      <td>Data system for the monitoring of power qualit...</td>\n",
       "      <td>During 2006, at CN Transelectrica - OMEPA Bran...</td>\n",
       "      <td>2007</td>\n",
       "      <td>Fanica Vatra</td>\n",
       "      <td>10.1109/EPQU.2007.4424094</td>\n",
       "      <td>Conferences</td>\n",
       "      <td>2150-6655</td>\n",
       "      <td>978-84-690-9441-9</td>\n",
       "    </tr>\n",
       "    <tr>\n",
       "      <th>2</th>\n",
       "      <td>Gas Emergence Big Data and neural network filter</td>\n",
       "      <td>The gas supervision is a safety core of the co...</td>\n",
       "      <td>2008</td>\n",
       "      <td>Li Kun</td>\n",
       "      <td>10.1109/CHICC.2008.4605537</td>\n",
       "      <td>Conferences</td>\n",
       "      <td>2161-2927</td>\n",
       "      <td>978-7-900719-70-6</td>\n",
       "    </tr>\n",
       "    <tr>\n",
       "      <th>3</th>\n",
       "      <td>Big one customer, one record and a mess - [fea...</td>\n",
       "      <td>Technology has often been seen as more importa...</td>\n",
       "      <td>2004</td>\n",
       "      <td>Mat Hanrahan</td>\n",
       "      <td>10.1049/inp:20040206</td>\n",
       "      <td>Magazines</td>\n",
       "      <td>1743-694X</td>\n",
       "      <td>None</td>\n",
       "    </tr>\n",
       "    <tr>\n",
       "      <th>4</th>\n",
       "      <td>Relationship between Volatility of Shibor Rate...</td>\n",
       "      <td>Using a daily sample of the 1-week Shanghai in...</td>\n",
       "      <td>2010</td>\n",
       "      <td>Lifeng Dong</td>\n",
       "      <td>10.1109/IWISA.2010.5473619</td>\n",
       "      <td>Conferences</td>\n",
       "      <td>None</td>\n",
       "      <td>978-1-4244-5872-1</td>\n",
       "    </tr>\n",
       "    <tr>\n",
       "      <th>5</th>\n",
       "      <td>A strategy for continuously big capacity data ...</td>\n",
       "      <td>The real time online analysis system that work...</td>\n",
       "      <td>2010</td>\n",
       "      <td>Xiao-Dong Shao</td>\n",
       "      <td>10.1109/ICACC.2010.5487001</td>\n",
       "      <td>Conferences</td>\n",
       "      <td>None</td>\n",
       "      <td>978-1-4244-5847-9</td>\n",
       "    </tr>\n",
       "    <tr>\n",
       "      <th>6</th>\n",
       "      <td>Keynote address: How will big pictures emerge ...</td>\n",
       "      <td>Every year since the article “How Will Big Pic...</td>\n",
       "      <td>2010</td>\n",
       "      <td>Luis A. N. Amaral</td>\n",
       "      <td>10.1109/VAST.2010.5652365</td>\n",
       "      <td>Conferences</td>\n",
       "      <td>None</td>\n",
       "      <td>978-1-4244-9488-0</td>\n",
       "    </tr>\n",
       "    <tr>\n",
       "      <th>7</th>\n",
       "      <td>The Big Picture, from Grids and Clouds to Crow...</td>\n",
       "      <td>Much work is underway within the broad next ge...</td>\n",
       "      <td>2010</td>\n",
       "      <td>Nik Bessis</td>\n",
       "      <td>10.1109/3PGCIC.2010.58</td>\n",
       "      <td>Conferences</td>\n",
       "      <td>None</td>\n",
       "      <td>978-0-7695-4237-9</td>\n",
       "    </tr>\n",
       "    <tr>\n",
       "      <th>8</th>\n",
       "      <td>Plenary talk: Big data and real time analytics</td>\n",
       "      <td>Moore's law predicted the processor and other ...</td>\n",
       "      <td>2011</td>\n",
       "      <td>G. V. N. Appa Rao</td>\n",
       "      <td>10.1109/ICRTIT.2011.5972495</td>\n",
       "      <td>Conferences</td>\n",
       "      <td>None</td>\n",
       "      <td>978-1-4577-0589-2</td>\n",
       "    </tr>\n",
       "    <tr>\n",
       "      <th>9</th>\n",
       "      <td>Fault parameter estimation with data assimilat...</td>\n",
       "      <td>A procedure to estimate, in the framework of d...</td>\n",
       "      <td>2011</td>\n",
       "      <td>Hiromichi Nagao</td>\n",
       "      <td>None</td>\n",
       "      <td>Conferences</td>\n",
       "      <td>None</td>\n",
       "      <td>978-0-9824438-3-5</td>\n",
       "    </tr>\n",
       "  </tbody>\n",
       "</table>\n",
       "</div>"
      ],
      "text/plain": [
       "                                               title                                           abstract  publication_year            authors                          doi content_type       issn               isbn\n",
       "0  Research and Application of Data Mining in Fau...  The fault characteristics of big equipments ar...              2007       Zhigang Chen    10.1109/ICMA.2007.4304167  Conferences  2152-744X  978-1-4244-0828-3\n",
       "1  Data system for the monitoring of power qualit...  During 2006, at CN Transelectrica - OMEPA Bran...              2007       Fanica Vatra    10.1109/EPQU.2007.4424094  Conferences  2150-6655  978-84-690-9441-9\n",
       "2   Gas Emergence Big Data and neural network filter  The gas supervision is a safety core of the co...              2008             Li Kun   10.1109/CHICC.2008.4605537  Conferences  2161-2927  978-7-900719-70-6\n",
       "3  Big one customer, one record and a mess - [fea...  Technology has often been seen as more importa...              2004       Mat Hanrahan         10.1049/inp:20040206    Magazines  1743-694X               None\n",
       "4  Relationship between Volatility of Shibor Rate...  Using a daily sample of the 1-week Shanghai in...              2010        Lifeng Dong   10.1109/IWISA.2010.5473619  Conferences       None  978-1-4244-5872-1\n",
       "5  A strategy for continuously big capacity data ...  The real time online analysis system that work...              2010     Xiao-Dong Shao   10.1109/ICACC.2010.5487001  Conferences       None  978-1-4244-5847-9\n",
       "6  Keynote address: How will big pictures emerge ...  Every year since the article “How Will Big Pic...              2010  Luis A. N. Amaral    10.1109/VAST.2010.5652365  Conferences       None  978-1-4244-9488-0\n",
       "7  The Big Picture, from Grids and Clouds to Crow...  Much work is underway within the broad next ge...              2010         Nik Bessis       10.1109/3PGCIC.2010.58  Conferences       None  978-0-7695-4237-9\n",
       "8     Plenary talk: Big data and real time analytics  Moore's law predicted the processor and other ...              2011  G. V. N. Appa Rao  10.1109/ICRTIT.2011.5972495  Conferences       None  978-1-4577-0589-2\n",
       "9  Fault parameter estimation with data assimilat...  A procedure to estimate, in the framework of d...              2011    Hiromichi Nagao                         None  Conferences       None  978-0-9824438-3-5"
      ]
     },
     "metadata": {},
     "output_type": "display_data"
    }
   ],
   "source": [
    "#Check db content\n",
    "\n",
    "db = sqlite3.connect(dbfile)\n",
    "\n",
    "tabela = 'api_ieee'\n",
    "\n",
    "query_api = pd.read_sql_query(f'select * from {tabela} LIMIT 10', db)\n",
    "display(pd.read_sql_query(f'select count(*) from {tabela}', db))\n",
    "display(query_api)"
   ]
  }
 ],
 "metadata": {
  "kernelspec": {
   "display_name": "Python 3.8.5 ('base')",
   "language": "python",
   "name": "python3"
  },
  "language_info": {
   "codemirror_mode": {
    "name": "ipython",
    "version": 3
   },
   "file_extension": ".py",
   "mimetype": "text/x-python",
   "name": "python",
   "nbconvert_exporter": "python",
   "pygments_lexer": "ipython3",
   "version": "3.8.5"
  },
  "orig_nbformat": 4,
  "vscode": {
   "interpreter": {
    "hash": "dbbbd85b2a4798c027da7b5a0fd5dd47a25f4b0dd387608339a19f5db8ee71ab"
   }
  }
 },
 "nbformat": 4,
 "nbformat_minor": 2
}
