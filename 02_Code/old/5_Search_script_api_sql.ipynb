{
 "cells": [
  {
   "cell_type": "code",
   "execution_count": 4,
   "metadata": {},
   "outputs": [],
   "source": [
    "#import bibtexparser\n",
    "import pandas as pd\n",
    "import numpy as np\n",
    "import os\n",
    "import glob\n",
    "import yaml\n",
    "import json\n",
    "import sqlite3\n",
    "\n",
    "from functions import write_yaml\n",
    "from functions import write_json\n",
    "from functions import write_csv\n",
    "from functions import read_yaml\n",
    "from functions import api_ieee\n",
    "import warnings\n",
    "warnings.simplefilter(action = 'ignore', category = FutureWarning)"
   ]
  },
  {
   "cell_type": "code",
   "execution_count": 2,
   "metadata": {},
   "outputs": [
    {
     "name": "stdout",
     "output_type": "stream",
     "text": [
      "../05_Config/config_query.yaml read successfully\n"
     ]
    },
    {
     "data": {
      "text/plain": [
       "'config_query: '"
      ]
     },
     "metadata": {},
     "output_type": "display_data"
    },
    {
     "data": {
      "text/plain": [
       "{'call_api_ieee': True,\n",
       " 'max_api_pagination': 2,\n",
       " 'api_ieee_field_search': 'article_title',\n",
       " 'api_ieee_string_search': 'big+data',\n",
       " 'use_query_sql_bib_csv': True,\n",
       " 'use_query_sql_ieee': True,\n",
       " 'query_bib_csv': \"select * from bib_csv WHERE abstract LIKE '%big%' AND abstract LIKE '%data%'\",\n",
       " 'query_ieee': \"select * from api_ieee WHERE  abstract LIKE '%big%' AND abstract LIKE '%data%'\",\n",
       " 'output_extensions': ['json', 'csv']}"
      ]
     },
     "metadata": {},
     "output_type": "display_data"
    }
   ],
   "source": [
    "#Reading yaml config file[]\n",
    "config_query = read_yaml(\"../05_Config/config_query.yaml\")\n",
    "display(\"config_query: \", config_query)\n"
   ]
  },
  {
   "cell_type": "code",
   "execution_count": 3,
   "metadata": {},
   "outputs": [
    {
     "name": "stdout",
     "output_type": "stream",
     "text": [
      "../05_Config/config_api.yaml read successfully\n",
      "config_api:  {'apikey': '3jk2p7za5jtd7a39gwknygvk', 'format': 'json', 'max_records': 1000, 'sort_order': 'asc', 'sort_field': 'article'}\n",
      "URL:  http://ieeexploreapi.ieee.org/api/v1/search/articles?apikey=3jk2p7za5jtd7a39gwknygvk&format=json&max_records=1000&start_record=1&sort_order=asc&sort_field=article_number&article_title=big+data\n",
      "\n",
      "total_records: 11163\n",
      "total_searched: 5785569\n",
      "max_pagination:  2\n",
      "Requesting: 1 - 200\n",
      "Requesting: 201 - 400\n",
      "(400, 30)\n",
      "\n",
      "df_api_raw:  (400, 30)\n",
      "df_api:  (400, 8)\n"
     ]
    },
    {
     "name": "stderr",
     "output_type": "stream",
     "text": [
      "/Users/amigosdadancamooca/Documents/Impacta/Python_for_Data_Engineers/02_Code/functions.py:136: SettingWithCopyWarning: \n",
      "A value is trying to be set on a copy of a slice from a DataFrame\n",
      "\n",
      "See the caveats in the documentation: https://pandas.pydata.org/pandas-docs/stable/user_guide/indexing.html#returning-a-view-versus-a-copy\n",
      "  df_api_raw.authors[i] = str(df_api_raw.authors[i]).split(\"'full_name': '\", maxsplit = 1)[-1].split(\"'\", maxsplit = 1)[0]\n",
      "/Users/amigosdadancamooca/Documents/Impacta/Python_for_Data_Engineers/02_Code/functions.py:138: SettingWithCopyWarning: \n",
      "A value is trying to be set on a copy of a slice from a DataFrame\n",
      "\n",
      "See the caveats in the documentation: https://pandas.pydata.org/pandas-docs/stable/user_guide/indexing.html#returning-a-view-versus-a-copy\n",
      "  df_api_raw.authors[i] = np.nan\n"
     ]
    },
    {
     "name": "stdout",
     "output_type": "stream",
     "text": [
      "api_ieee gravada com sucesso no banco SQLite\n"
     ]
    }
   ],
   "source": [
    "if config_query['call_api_ieee'] == True:\n",
    "    api_ieee(   field_search = config_query['api_ieee_field_search'], \n",
    "                string_search = config_query['api_ieee_string_search'], \n",
    "                max_pagination = config_query['max_api_pagination'])"
   ]
  },
  {
   "cell_type": "markdown",
   "metadata": {},
   "source": [
    "# SQL QUERIES"
   ]
  },
  {
   "cell_type": "code",
   "execution_count": 13,
   "metadata": {},
   "outputs": [
    {
     "name": "stdout",
     "output_type": "stream",
     "text": [
      "../05_Config/config_query.yaml read successfully\n",
      "query_bib_csv:  select * from bib_csv WHERE abstract LIKE '%big data%' OR abstract LIKE '%quality%'\n",
      "\n",
      "query_bib_csv: (308, 34) results <sqlite3.Connection object at 0x11ee3c030>\n",
      "\n",
      "query_ieee:  select * from api_ieee WHERE  abstract LIKE '%big data%' OR abstract LIKE '%quality%'\n",
      "\n",
      "query_ieee: (275, 8) results <sqlite3.Connection object at 0x11ee3c030>\n",
      "\n",
      "df_query_bib.csv successfully written\n",
      "\n",
      "df_query_ieee.csv successfully written\n",
      "\n",
      "df_query_bib.json successfully written\n",
      "\n",
      "df_query_ieee.json successfully written\n",
      "\n",
      " ################################################## \n",
      " Process completed successfully \n",
      " ##################################################\n"
     ]
    }
   ],
   "source": [
    "#Reading yaml config file[]\n",
    "config_query = read_yaml(\"../05_Config/config_query.yaml\")\n",
    "\n",
    "#Connecting to SQLite db\n",
    "dbfile = '/Users/amigosdadancamooca/Documents/Impacta/Python_for_Data_Engineers/03_OutputFiles/doi.db'\n",
    "db = sqlite3.connect(dbfile)\n",
    "\n",
    "if config_query['use_query_sql_bib_csv'] == True:\n",
    "    tabela ='bib_csv'\n",
    "    df_query_bib_csv = pd.read_sql_query(config_query['query_bib_csv'], db)\n",
    "    print('query_bib_csv: ',config_query['query_bib_csv'])\n",
    "    print(f'\\nquery_bib_csv: {df_query_bib_csv.shape} results', db)\n",
    "    #display(df_query_bib_csv.head())\n",
    "    \n",
    "\n",
    "if config_query['use_query_sql_ieee'] == True:\n",
    "    tabela ='api_ieee'\n",
    "    df_query_ieee = pd.read_sql_query(config_query['query_ieee'], db)\n",
    "    print('\\nquery_ieee: ',config_query['query_ieee'])\n",
    "    print(f'\\nquery_ieee: {df_query_ieee.shape} results', db)\n",
    "    #display(df_query_ieee.head())\n",
    "\n",
    "db.commit()\n",
    "db.close()\n",
    "\n",
    "#########################################################################\n",
    "\n",
    "#Exporting based on the yaml config file\n",
    "#print(\"Output extensions options: \", configuration_file['output_extensions'])\n",
    "\n",
    "if 'csv' in config_query['output_extensions']:\n",
    "    if config_query['use_query_sql_bib_csv'] == True:\n",
    "        write_csv(df_query_bib_csv, f'df_query_bib')\n",
    "    if config_query['use_query_sql_ieee'] == True:\n",
    "        write_csv(df_query_ieee, f'df_query_ieee')\n",
    "\n",
    "if 'json' in config_query['output_extensions']:\n",
    "    if config_query['use_query_sql_bib_csv'] == True:\n",
    "        write_json(df_query_bib_csv, f'df_query_bib')\n",
    "    if config_query['use_query_sql_ieee'] == True:\n",
    "        write_json(df_query_ieee, f'df_query_ieee')\n",
    "\n",
    "if 'yaml' in config_query['output_extensions']:\n",
    "    if config_query['use_query_sql_bib_csv'] == True:\n",
    "        write_yaml(df_query_bib_csv, f'df_query_bib')\n",
    "    if config_query['use_query_sql_ieee'] == True:\n",
    "        write_yaml(df_query_ieee, f'df_query_ieee')\n",
    "\n",
    "if not config_query['output_extensions']:\n",
    "    raise Exception(\"Please, select a valid output file extension [json, csv, yaml] in the config_query.yaml\")\n",
    "\n",
    "print('\\n','#' * 50,'\\n Process completed successfully','\\n','#' * 50)"
   ]
  },
  {
   "cell_type": "code",
   "execution_count": null,
   "metadata": {},
   "outputs": [],
   "source": []
  }
 ],
 "metadata": {
  "kernelspec": {
   "display_name": "Python 3.8.5 ('base')",
   "language": "python",
   "name": "python3"
  },
  "language_info": {
   "codemirror_mode": {
    "name": "ipython",
    "version": 3
   },
   "file_extension": ".py",
   "mimetype": "text/x-python",
   "name": "python",
   "nbconvert_exporter": "python",
   "pygments_lexer": "ipython3",
   "version": "3.8.5"
  },
  "orig_nbformat": 4,
  "vscode": {
   "interpreter": {
    "hash": "dbbbd85b2a4798c027da7b5a0fd5dd47a25f4b0dd387608339a19f5db8ee71ab"
   }
  }
 },
 "nbformat": 4,
 "nbformat_minor": 2
}
